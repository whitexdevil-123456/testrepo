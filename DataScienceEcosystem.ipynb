{
 "cells": [
  {
   "cell_type": "markdown",
   "id": "36b566d2-d4ce-4bd7-aeb9-39802d03dbb0",
   "metadata": {},
   "source": [
    "# Data Science Tools and Ecosystem"
   ]
  },
  {
   "cell_type": "markdown",
   "id": "e654c53f-db86-4229-b3a4-48092c6baff0",
   "metadata": {},
   "source": [
    "### In this notebook, Data Science Tools and Ecosystem are summarized."
   ]
  },
  {
   "cell_type": "markdown",
   "id": "49a3a3fa-8bcb-4881-bf00-2ff08116bcfc",
   "metadata": {},
   "source": [
    "# Objectives: #\n",
    "* List popular languages for Data Science\n",
    "* List commonly used libraries in Data Science\n",
    "* Data Science Tools"
   ]
  },
  {
   "cell_type": "markdown",
   "id": "790af6ef-c288-4ef0-8b61-d882c4b77989",
   "metadata": {},
   "source": [
    "### Some of the popular languages that Data Scientists use are:\n",
    "* python\n",
    "* R\n",
    "* SQL\n",
    "* Julia"
   ]
  },
  {
   "cell_type": "markdown",
   "id": "e70a4fbe-0fd2-491c-8755-fd20b07ea73c",
   "metadata": {},
   "source": [
    "### Some of the commonly used libraries used by Data Scientists include:\n",
    "\n",
    "* NumPy\n",
    "* Pandas\n",
    "* Matplotlib\n",
    "* Seaborn\n",
    "* Scikit-learn\n",
    "* TensorFlow\n",
    "* SciPy\n",
    "* Plotly\n",
    "* ggplot\n",
    "* caret"
   ]
  },
  {
   "cell_type": "markdown",
   "id": "b44650e2-07a2-4c57-9053-853bee016e1d",
   "metadata": {},
   "source": [
    "|Data Science Tools|\n",
    "|------------------|\n",
    "|Jupyter Notebook|\n",
    "|RStudio|\n",
    "|Visual Studio Code|\n",
    "|Apache Spark|\n",
    "|Apache Hadoop|\n",
    "|Apache Flink|\n",
    "|Tableau|\n",
    "|Microsoft Power BI|\n",
    "|MySQL|\n",
    "|PostgreSQL|"
   ]
  },
  {
   "cell_type": "markdown",
   "id": "adbfa00f-cac3-4632-9e37-42fb7f2f8cd1",
   "metadata": {},
   "source": [
    "### Below are a few examples of evaluating arithmetic expressions in Python"
   ]
  },
  {
   "cell_type": "code",
   "execution_count": 1,
   "id": "b6da1f7b-e001-4a2f-be55-5388094a4512",
   "metadata": {},
   "outputs": [
    {
     "data": {
      "text/plain": [
       "17"
      ]
     },
     "execution_count": 1,
     "metadata": {},
     "output_type": "execute_result"
    }
   ],
   "source": [
    "#This a simple arithmetic expression to mutiply then add integers\n",
    "(3*4)+5"
   ]
  },
  {
   "cell_type": "code",
   "execution_count": 2,
   "id": "a3339420-a6a0-4713-8fb2-86ccb53cbec0",
   "metadata": {},
   "outputs": [
    {
     "data": {
      "text/plain": [
       "3.3333333333333335"
      ]
     },
     "execution_count": 2,
     "metadata": {},
     "output_type": "execute_result"
    }
   ],
   "source": [
    "#This will convert 200 minutes to hours by diving by 60\n",
    "200/60"
   ]
  },
  {
   "cell_type": "markdown",
   "id": "cd990b26-9bdb-4e98-a7f8-eec5b284020b",
   "metadata": {},
   "source": [
    "## Author\n",
    "Subhajit Sarkar"
   ]
  }
 ],
 "metadata": {
  "kernelspec": {
   "display_name": "Python 3 (ipykernel)",
   "language": "python",
   "name": "python3"
  },
  "language_info": {
   "codemirror_mode": {
    "name": "ipython",
    "version": 3
   },
   "file_extension": ".py",
   "mimetype": "text/x-python",
   "name": "python",
   "nbconvert_exporter": "python",
   "pygments_lexer": "ipython3",
   "version": "3.13.5"
  }
 },
 "nbformat": 4,
 "nbformat_minor": 5
}
